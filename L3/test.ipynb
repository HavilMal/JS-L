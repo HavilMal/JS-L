{
 "cells": [
  {
   "cell_type": "code",
   "id": "initial_id",
   "metadata": {
    "collapsed": true,
    "ExecuteTime": {
     "end_time": "2025-03-23T16:45:25.772964Z",
     "start_time": "2025-03-23T16:45:25.762111Z"
    }
   },
   "source": [
    "keys = [\n",
    "    \"ts\", \"uid\", \"id.orig_h\", \"id.orig_p\", \"id.resp_h\", \"id.resp_p\",\n",
    "    \"trans_depth\", \"method\", \"host\", \"uri\", \"referrer\", \"user_agent\",\n",
    "    \"request_body_len\", \"response_body_len\", \"status_code\", \"status_msg\",\n",
    "    \"info_code\", \"info_msg\", \"filename\", \"tags\", \"username\", \"password\",\n",
    "    \"proxied\", \"orig_fuids\", \"orig_mime_types\", \"resp_fuids\", \"resp_mime_types\"\n",
    "]\n",
    "\n",
    "keys.index(\"status_code\")\n"
   ],
   "outputs": [
    {
     "data": {
      "text/plain": [
       "14"
      ]
     },
     "execution_count": 3,
     "metadata": {},
     "output_type": "execute_result"
    }
   ],
   "execution_count": 3
  }
 ],
 "metadata": {
  "kernelspec": {
   "display_name": "Python 3",
   "language": "python",
   "name": "python3"
  },
  "language_info": {
   "codemirror_mode": {
    "name": "ipython",
    "version": 2
   },
   "file_extension": ".py",
   "mimetype": "text/x-python",
   "name": "python",
   "nbconvert_exporter": "python",
   "pygments_lexer": "ipython2",
   "version": "2.7.6"
  }
 },
 "nbformat": 4,
 "nbformat_minor": 5
}
